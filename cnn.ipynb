{
 "cells": [
  {
   "cell_type": "code",
   "execution_count": 1,
   "metadata": {},
   "outputs": [
    {
     "name": "stdout",
     "output_type": "stream",
     "text": [
      "Intel MKL WARNING: Support of Intel(R) Streaming SIMD Extensions 4.2 (Intel(R) SSE4.2) enabled only processors has been deprecated. Intel oneAPI Math Kernel Library 2025.0 will require Intel(R) Advanced Vector Extensions (Intel(R) AVX) instructions.\n",
      "Intel MKL WARNING: Support of Intel(R) Streaming SIMD Extensions 4.2 (Intel(R) SSE4.2) enabled only processors has been deprecated. Intel oneAPI Math Kernel Library 2025.0 will require Intel(R) Advanced Vector Extensions (Intel(R) AVX) instructions.\n"
     ]
    },
    {
     "name": "stderr",
     "output_type": "stream",
     "text": [
      "2024-02-14 21:35:11.589322: I tensorflow/core/platform/cpu_feature_guard.cc:182] This TensorFlow binary is optimized to use available CPU instructions in performance-critical operations.\n",
      "To enable the following instructions: SSE4.1 SSE4.2, in other operations, rebuild TensorFlow with the appropriate compiler flags.\n"
     ]
    },
    {
     "name": "stdout",
     "output_type": "stream",
     "text": [
      "modules loaded\n"
     ]
    }
   ],
   "source": [
    "#Import necessary libraries, some libraries need to imported using conda or pip install\n",
    "import os\n",
    "import cv2\n",
    "import time\n",
    "import shutil\n",
    "import itertools\n",
    "import numpy as np\n",
    "import pandas as pd\n",
    "import seaborn as sns\n",
    "import tensorflow as tf\n",
    "sns.set_style('darkgrid')\n",
    "\n",
    "from tensorflow import keras\n",
    "import matplotlib.pyplot as plt\n",
    "from tensorflow.keras import regularizers\n",
    "from tensorflow.keras.optimizers import Adam, Adamax\n",
    "\n",
    "from sklearn.model_selection import train_test_split\n",
    "from tensorflow.keras.metrics import categorical_crossentropy\n",
    "from tensorflow.keras.models import Model, load_model, Sequential\n",
    "from sklearn.metrics import confusion_matrix, classification_report\n",
    "from tensorflow.keras.preprocessing.image import ImageDataGenerator\n",
    "\n",
    "from tensorflow.keras.layers import Conv2D, MaxPooling2D, Flatten, Dense, Activation, Dropout, BatchNormalization\n",
    "print ('modules loaded')\n"
   ]
  },
  {
   "cell_type": "code",
   "execution_count": null,
   "metadata": {},
   "outputs": [],
   "source": [
    "\n",
    "def define_paths(dir):\n",
    "    folds = os.listdir(dir)\n",
    "    files =[]\n",
    "    classes = []\n",
    "    for f in folds:\n",
    "        foldpath = "
   ]
  },
  {
   "cell_type": "code",
   "execution_count": null,
   "metadata": {},
   "outputs": [],
   "source": [
    "def define_paths(dir): \n",
    "\n",
    "    folds = os.listdir(dir) \n",
    "\n",
    "    files = [] \n",
    "\n",
    "    classes = [] \n",
    "\n",
    "    for fold in folds: \n",
    "\n",
    "        foldpath = os.path.join(dir, fold) \n",
    "\n",
    "        # Check if it's a directory before trying to list its contents \n",
    "\n",
    "        if os.path.isdir(foldpath): \n",
    "\n",
    "            filelist = os.listdir(foldpath) \n",
    "\n",
    "            for file in filelist: \n",
    "\n",
    "                fpath = os.path.join(foldpath, file) \n",
    "\n",
    "                files.append(fpath) \n",
    "\n",
    "                classes.append(fold) \n",
    "\n",
    "    return files, classes \n",
    "\n",
    "  \n",
    "\n",
    "def define_df(files, classes): \n",
    "\n",
    "    Fseries = pd.Series(files, name= 'filepaths') \n",
    "\n",
    "    Lseries = pd.Series(classes, name='labels') \n",
    "\n",
    "    return pd.concat([Fseries, Lseries], axis= 1) \n",
    "\n",
    "  \n",
    "\n",
    "def create_df(tr_dir, val_dir, ts_dir): \n",
    "\n",
    "    # train dataframe \n",
    "\n",
    "    files, classes = define_paths(tr_dir) \n",
    "\n",
    "    train_df = define_df(files, classes) \n",
    "\n",
    "  \n",
    "\n",
    "    # validation dataframe \n",
    "\n",
    "    files, classes = define_paths(val_dir) \n",
    "\n",
    "    valid_df = define_df(files, classes) \n",
    "\n",
    "    # test dataframe \n",
    "\n",
    "    files, classes = define_paths(ts_dir) \n",
    "\n",
    "    test_df = define_df(files, classes) \n",
    "\n",
    "    return train_df, valid_df, test_df "
   ]
  }
 ],
 "metadata": {
  "kernelspec": {
   "display_name": "lungcancer",
   "language": "python",
   "name": "python3"
  },
  "language_info": {
   "codemirror_mode": {
    "name": "ipython",
    "version": 3
   },
   "file_extension": ".py",
   "mimetype": "text/x-python",
   "name": "python",
   "nbconvert_exporter": "python",
   "pygments_lexer": "ipython3",
   "version": "3.11.5"
  }
 },
 "nbformat": 4,
 "nbformat_minor": 2
}
